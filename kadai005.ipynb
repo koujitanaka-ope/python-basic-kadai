{
  "nbformat": 4,
  "nbformat_minor": 0,
  "metadata": {
    "colab": {
      "provenance": [],
      "toc_visible": true,
      "authorship_tag": "ABX9TyPBoan/tWnP9+LvVYg6wbpp",
      "include_colab_link": true
    },
    "kernelspec": {
      "name": "python3",
      "display_name": "Python 3"
    },
    "language_info": {
      "name": "python"
    }
  },
  "cells": [
    {
      "cell_type": "markdown",
      "metadata": {
        "id": "view-in-github",
        "colab_type": "text"
      },
      "source": [
        "<a href=\"https://colab.research.google.com/github/koujitanaka-ope/python-basic-kadai/blob/main/kadai005.ipynb\" target=\"_parent\"><img src=\"https://colab.research.google.com/assets/colab-badge.svg\" alt=\"Open In Colab\"/></a>"
      ]
    },
    {
      "cell_type": "code",
      "execution_count": 18,
      "metadata": {
        "id": "xqq8leND0WAN"
      },
      "outputs": [],
      "source": []
    },
    {
      "cell_type": "code",
      "source": [
        "上辺 = 10 #cm\n",
        "下辺 = 20 #cm\n",
        "高さ = 5 #cm\n",
        "    #面積の求め方は、（上辺＋下辺）×高さ÷２です\n",
        "面積 = (上辺 + 下辺)* 高さ / 2\n",
        "\n",
        "print(f\"台形の面積は{面積}cm²です\")"
      ],
      "metadata": {
        "colab": {
          "base_uri": "https://localhost:8080/"
        },
        "id": "cHRlLQqm0Ygz",
        "outputId": "c756f7bf-9e31-4c5e-eb28-11e3d3134049"
      },
      "execution_count": 32,
      "outputs": [
        {
          "output_type": "stream",
          "name": "stdout",
          "text": [
            "台形の面積は75.0cm²です\n"
          ]
        }
      ]
    },
    {
      "cell_type": "markdown",
      "source": [
        "# 新しいセクション"
      ],
      "metadata": {
        "id": "90YsHB2J4nxB"
      }
    }
  ]
}